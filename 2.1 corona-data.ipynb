{
 "cells": [
  {
   "cell_type": "markdown",
   "metadata": {},
   "source": [
    "## 공공데이터 포털에서 covid- 19 정보 가져오기\n",
    "- [출처] Python 공공데이터포털 API 데이터사용하기|작성자 박원영]\n",
    "- 문제 --> : 2020년 2월 1일의 데이터 부터존재.\n"
   ]
  },
  {
   "cell_type": "code",
   "execution_count": 25,
   "metadata": {},
   "outputs": [],
   "source": [
    "startdate = '20200101'\n",
    "enddate = '20200201'\n",
    "\n",
    "key = 'C6chodmm2P3XcoLKIevd40ek4E2J9hedDXGBTPRftoSMaVZMDN27v6gVRnV5qBeQTbmw8IHCc%2Bzf602nZtJVLg%3D%3D'\n",
    "url = 'http://openapi.data.go.kr/openapi/service/rest/Covid19/getCovid19InfStateJson?serviceKey=' +key +\\\n",
    "'&pageNo=1&numOfRows=10&startCreateDt='+startdate +'&endCreateDt=' + enddate"
   ]
  },
  {
   "cell_type": "code",
   "execution_count": 26,
   "metadata": {},
   "outputs": [
    {
     "name": "stdout",
     "output_type": "stream",
     "text": [
      "{'response': {'header': {'resultCode': '00', 'resultMsg': 'NORMAL SERVICE.'}, 'body': {'items': {'item': {'accDefRate': None, 'clearCnt': '1', 'createDt': '2020-01-31 17:47:33.33', 'deathCnt': '0', 'decideCnt': '0', 'examCnt': '1', 'seq': '1', 'stateDt': '20200101', 'stateTime': '18:00', 'updateDt': '2020-02-03 12:21:56.56'}}, 'numOfRows': '10', 'pageNo': '1', 'totalCount': '1'}}}\n"
     ]
    }
   ],
   "source": [
    "import urllib.request as ul\n",
    "import xmltodict\n",
    "import json\n",
    "import sys\n",
    "import io\n",
    "\n",
    "\n",
    " \n",
    "request = ul.Request(url)\n",
    "#url의 데이터를 요청함\n",
    "\n",
    "response = ul.urlopen(request)\n",
    "#요청받은 데이터를 열어줌\n",
    "\n",
    "rescode = response.getcode()\n",
    "#제대로 데이터가 수신됐는지 확인하는 코드 성공시 200\n",
    "if(rescode == 200):\n",
    "    responseData = response.read()\n",
    "    #요청받은 데이터를 읽음\n",
    "    rD = xmltodict.parse(responseData)\n",
    "    #XML형식의 데이터를 dict형식으로 변환시켜줌\n",
    "\n",
    "    rDJ = json.dumps(rD)\n",
    "    #dict 형식의 데이터를 json형식으로 변환\n",
    "\n",
    "    rDD = json.loads(rDJ)\n",
    "    #json형식의 데이터를 dict 형식으로 변환\n",
    "    \n",
    "    print(rDD)\n",
    "    #정상적으로 데이터가 출력되는지 확인\n",
    "\n",
    "\n",
    "\n",
    "# 데이터출력하기\n",
    "\n"
   ]
  }
 ],
 "metadata": {
  "kernelspec": {
   "display_name": "Python 3",
   "language": "python",
   "name": "python3"
  },
  "language_info": {
   "codemirror_mode": {
    "name": "ipython",
    "version": 3
   },
   "file_extension": ".py",
   "mimetype": "text/x-python",
   "name": "python",
   "nbconvert_exporter": "python",
   "pygments_lexer": "ipython3",
   "version": "3.7.7"
  }
 },
 "nbformat": 4,
 "nbformat_minor": 4
}
